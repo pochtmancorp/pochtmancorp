{
  "nbformat": 4,
  "nbformat_minor": 0,
  "metadata": {
    "colab": {
      "name": "NetoSalary.ipynb",
      "provenance": [],
      "authorship_tag": "ABX9TyPn77T/3wJN/s2zV250HkQt",
      "include_colab_link": true
    },
    "kernelspec": {
      "name": "python3",
      "display_name": "Python 3"
    },
    "language_info": {
      "name": "python"
    }
  },
  "cells": [
    {
      "cell_type": "markdown",
      "metadata": {
        "id": "view-in-github",
        "colab_type": "text"
      },
      "source": [
        "<a href=\"https://colab.research.google.com/github/pochtmancorp/pochtmancorp/blob/main/NetoSalary.ipynb\" target=\"_parent\"><img src=\"https://colab.research.google.com/assets/colab-badge.svg\" alt=\"Open In Colab\"/></a>"
      ]
    },
    {
      "cell_type": "code",
      "execution_count": null,
      "metadata": {
        "id": "7eKU1g5YtN9T"
      },
      "outputs": [],
      "source": [
        "\n",
        "def heshbon():\n",
        "  salarybruto = float(input('Maskoret Bruto:'))\n",
        "  bituah = float(input('Bituah Leumi:'))\n",
        "  \n",
        "  \n",
        "  if salarybruto <= 6450:\n",
        "    masahnasaprocent = 10\n",
        "     \n",
        "  elif  6451 <= salarybruto <=9240:\n",
        "    masahnasaprocent = 14\n",
        "  elif  9241 <= salarybruto <=14840:\n",
        "    masahnasaprocent = 20\n",
        "  elif  14841 <= salarybruto <=20620:\n",
        "    masahnasaprocent = 31\n",
        "  elif  20621 <= salarybruto <=42910:\n",
        "    masahnasaprocent = 35\n",
        "  else:\n",
        "    masahnasaprocent = 47\n",
        "\n",
        "  masahnasa = salarybruto / 100 * masahnasaprocent\n",
        "  full = salarybruto - (masahnasa + bituah) \n",
        "  return full\n",
        "\n",
        "neto = heshbon()\n",
        "print('Your neto =' ,neto)"
      ]
    }
  ]
}